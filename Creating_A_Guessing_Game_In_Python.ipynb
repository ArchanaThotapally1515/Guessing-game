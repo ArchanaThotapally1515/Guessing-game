{
  "nbformat": 4,
  "nbformat_minor": 0,
  "metadata": {
    "colab": {
      "provenance": [],
      "include_colab_link": true
    },
    "kernelspec": {
      "name": "python3",
      "display_name": "Python 3"
    },
    "language_info": {
      "name": "python"
    }
  },
  "cells": [
    {
      "cell_type": "markdown",
      "metadata": {
        "id": "view-in-github",
        "colab_type": "text"
      },
      "source": [
        "<a href=\"https://colab.research.google.com/github/ArchanaThotapally1515/Guessing-game/blob/main/Creating_A_Guessing_Game_In_Python.ipynb\" target=\"_parent\"><img src=\"https://colab.research.google.com/assets/colab-badge.svg\" alt=\"Open In Colab\"/></a>"
      ]
    },
    {
      "cell_type": "markdown",
      "source": [
        "# Creating A Guessing Game In Python"
      ],
      "metadata": {
        "id": "8ftNEwineqdm"
      }
    },
    {
      "cell_type": "markdown",
      "source": [
        "## Table of Contents\n",
        "1. Getting Started\n",
        "2. The Game Logic\n",
        "3. Creating Guessing Game with Python\n",
        "4. Guessing Game Program In Python\n",
        "5. How the Game Works\n",
        "6. Conclusion\n",
        "\n",
        "https://www.mathsisfun.com/games/guess_number.html\n",
        "\n"
      ],
      "metadata": {
        "id": "MF-Gt-RKeuBD"
      }
    },
    {
      "cell_type": "markdown",
      "source": [
        "## Getting Started\n",
        "\n",
        "> A guessing game is a classic and fun way to learn basics of python for programmers in begining. We will walk you through the process of creating a simple guessing game using Python. This game will randomly generate a number, and the user will have to guess the number within a certain range.\n",
        "\n",
        "\n",
        "> This is going to be a simple guessing game where the computer will generate a random number between 1 to 100, and the user has to guess it in 5 or 10 attempts.\n",
        "\n",
        "> Based on the user's guess computer will give various hints if the number is high or low. When the user guess matches the number computer will print the answer along with the number of attempts.\n",
        "\n",
        "\n",
        "> Let's get started!\n"
      ],
      "metadata": {
        "id": "0yi8Hq53fLfe"
      }
    },
    {
      "cell_type": "markdown",
      "source": [
        "## The Game Logic\n",
        "\n",
        "The Number Guessing Game revolves around a few key elements:\n",
        "\n",
        "**1. Generating a Random Number**: The game will randomly generate a number between 1 and 100, which you will have to guess.\n",
        "\n",
        "**2. User Interaction**: You will be asked to enter your name, making the game more personalized. Then, you can ask for level of difficulty like easy or hard where we will assign easy 10 guesses and hard level only 5 guesses.\n",
        "\n",
        "**3. Feedback Loop**: After each guess, the game will provide feedback on whether your guess is too low or too high. This will guide you in making your subsequent guesses.\n",
        "\n",
        "**4. Limited Attempts**: You will have a maximum of 5 attempts to guess the correct number for hard level and 10 for easy level based on level you choosen. Can you solve the mystery within these attempts?\n",
        "\n",
        "**5. Victory or Defeat**: If you successfully guess the number within the given attempts, you will be celebrated for your guessing prowess. If not, the game will reveal the correct number."
      ],
      "metadata": {
        "id": "Nm2sk7lef8qb"
      }
    },
    {
      "cell_type": "code",
      "execution_count": null,
      "metadata": {
        "id": "Oyl_s2Eiel8d",
        "colab": {
          "base_uri": "https://localhost:8080/",
          "height": 106
        },
        "outputId": "dfff565b-3a06-4c5c-cfb4-601f0faca3b9"
      },
      "outputs": [
        {
          "output_type": "error",
          "ename": "SyntaxError",
          "evalue": "invalid syntax (<ipython-input-3-c8632ebb670e>, line 4)",
          "traceback": [
            "\u001b[0;36m  File \u001b[0;32m\"<ipython-input-3-c8632ebb670e>\"\u001b[0;36m, line \u001b[0;32m4\u001b[0m\n\u001b[0;31m    Hi, Mohan I am Guessing a number between 1 and 100:\u001b[0m\n\u001b[0m              ^\u001b[0m\n\u001b[0;31mSyntaxError\u001b[0m\u001b[0;31m:\u001b[0m invalid syntax\n"
          ]
        }
      ],
      "source": [
        "Hello, What's your name?\n",
        "Mohan\n",
        "\n",
        "Hi, Mohan I am Guessing a number between 1 and 100:\n",
        "\n",
        "Choose the difficulty Level, Type 'easy' or 'hard': easy\n",
        "You have 10 attempts to guess the number.\n",
        "Make a guess: 2\n",
        "\n",
        "Your guess is too low\n",
        "Guess again.\n",
        "You have 9 attempts to guess the number.\n",
        "Make a guess: 99\n",
        "\n",
        "Your guess is too high\n",
        "Guess again.\n",
        "You have 9 attempts to guess the number.\n",
        "Make a guess: 50\n",
        "\n",
        "You got it!  The answer was 50.\n",
        "You guessed the number in 3 tries!"
      ]
    },
    {
      "cell_type": "markdown",
      "source": [
        "# Creating Guessing Game with Python\n",
        "\n",
        "To generate a random number we will use a Python module named random to use this module in our program, we first need to import it."
      ],
      "metadata": {
        "id": "67Yc34UujeXf"
      }
    },
    {
      "cell_type": "code",
      "source": [
        "import random"
      ],
      "metadata": {
        "id": "Z9lF2DWPh_eC"
      },
      "execution_count": null,
      "outputs": []
    },
    {
      "cell_type": "markdown",
      "source": [
        "We will use the random module to generate a number between 1 to 100 and store it in a variable named number."
      ],
      "metadata": {
        "id": "2VNQ4SMfj1U1"
      }
    },
    {
      "cell_type": "code",
      "source": [
        "number = random.randint(1, 100)"
      ],
      "metadata": {
        "id": "rqBpKLB3k5Gd"
      },
      "execution_count": null,
      "outputs": []
    },
    {
      "cell_type": "markdown",
      "source": [
        "Now we will prompt the user to enter his name and store it to a variable named playerName."
      ],
      "metadata": {
        "id": "3d6O-7htk58U"
      }
    },
    {
      "cell_type": "code",
      "source": [
        "playerName = input(\"Hello what is your name: \")\n",
        "print(\"Hi\",playerName, \"I am guessing a number between 1 and 100:\")"
      ],
      "metadata": {
        "id": "UpnYNbPYlSF9",
        "colab": {
          "base_uri": "https://localhost:8080/"
        },
        "outputId": "ee332f84-c6b4-4110-f542-038819eb93b9"
      },
      "execution_count": null,
      "outputs": [
        {
          "output_type": "stream",
          "name": "stdout",
          "text": [
            "Hello what is your name: archana\n",
            "Hi archana I am guessing a number between 1 and 100:\n"
          ]
        }
      ]
    },
    {
      "cell_type": "markdown",
      "source": [
        "In the next step, we will create a variable named guesses and assign 5 or 10 based on easy or hard level that user choosen. Later we will increase this value on each iteration of the while loop.\n",
        "\n",
        "Finally, before constructing the while loop, we will print a string which includes the playerName."
      ],
      "metadata": {
        "id": "7uq9CYNelXXb"
      }
    },
    {
      "cell_type": "code",
      "source": [
        "difficulty = input(\"Choose the difficulty level, Type 'easy' or 'hard': \")\n",
        "if difficulty == \"easy\":\n",
        "  guesses = 10\n",
        "else:\n",
        "  guesses = 5\n",
        "print(\"you have\", guesses, \" guesses to guess the number\")\n"
      ],
      "metadata": {
        "colab": {
          "base_uri": "https://localhost:8080/"
        },
        "id": "AnOgF7lhbZfC",
        "outputId": "a67e2d9e-7c5d-4480-a884-ef23d8b6e815"
      },
      "execution_count": null,
      "outputs": [
        {
          "output_type": "stream",
          "name": "stdout",
          "text": [
            "Choose the difficulty level, Type 'easy' or 'hard': easy\n",
            "you have 10  guesses to guess the number\n"
          ]
        }
      ]
    },
    {
      "cell_type": "markdown",
      "source": [
        "Now let's design the while loop."
      ],
      "metadata": {
        "id": "qb-iauN6l12Z"
      }
    },
    {
      "cell_type": "code",
      "source": [
        "while guesses > 0:\n",
        "  guess = int(input(\"Guess a number\"))\n",
        "  if guess < number:\n",
        "    print(\"Your Guess is too Low\")\n",
        "    guesses = guesses - 1\n",
        "    print(\"You have\", guesses, \"guesses to guess the number\")\n",
        "  elif guess > number:\n",
        "    print(\"Your Guess is too High\")\n",
        "    guesses = guesses - 1\n",
        "    print(\"You have\", guesses, \"guesses to guess the number\")\n",
        "  else:\n",
        "    print(\"Great Job!!!!\")\n",
        "    print(\"You Guessed it Right!!\", playerName)\n",
        "    print(\"You Guessed the number in\", (10 - guesses if difficulty == 'easy' else 5 - guesses), \"attempts!\")1\n",
        "    break"
      ],
      "metadata": {
        "id": "Isol5hdZmIe-",
        "colab": {
          "base_uri": "https://localhost:8080/"
        },
        "outputId": "71fb9d1e-cc76-459f-cf23-9dd0f8d495b6"
      },
      "execution_count": null,
      "outputs": [
        {
          "output_type": "stream",
          "name": "stdout",
          "text": [
            "Guess a number56\n",
            "Your Guess is too High\n",
            "You have 1 guesses to guess the number\n",
            "Guess a number23\n",
            "Your Guess is too High\n",
            "You have 0 guesses to guess the number\n"
          ]
        }
      ]
    },
    {
      "cell_type": "markdown",
      "source": [
        "In the first line, we are defining the controlling expression of the while loop. Our game will give user 5 or 10 attempts to guess the number, hence less than guesses because we have already assigned the number_of_guesses variable to 0.\n",
        "\n",
        "Within the loop, we are taking the input from the user and storing it in the guess variable. However, the user input we are getting from the user is a string object and to perform mathematical operations on it we first need to convert it to an integer which can be done by the Python's inbuilt int() method.\n",
        "\n",
        "In the next line, we are incrementing the value of number_of_guesses variable by 1.\n",
        "\n",
        "Below it, we have 3 conditional statements.\n",
        "\n",
        "In the first, if statement we are comparing if the guess is less than the generated number if this statement evaluates to true, we print the corresponding Guess.\n",
        "\n",
        "Similarly, we are checking if the guess is greater than the generated number.\n",
        "The final if statement has the break keyword, which will terminate the loop entirely,\n",
        "So when the guess is equal to the generated number loop gets terminated."
      ],
      "metadata": {
        "id": "U2T6j8y08Hzq"
      }
    },
    {
      "cell_type": "code",
      "source": [
        "if guesses == 0:\n",
        "  print(\"You ran out of Guesses. The correct answer was\", number)"
      ],
      "metadata": {
        "id": "8GNG_2eT8yq8"
      },
      "execution_count": null,
      "outputs": []
    },
    {
      "cell_type": "markdown",
      "source": [
        "Here we are first verifying if the user has guessed the number or not. if they did, then we will print a message for them along with the number of tries.\n",
        "\n",
        "\n",
        "If the player couldn't guess the number at the end we will print the number along with a message."
      ],
      "metadata": {
        "id": "mpWgHjN99OP1"
      }
    },
    {
      "cell_type": "markdown",
      "source": [
        "# Guessing Game Program In Python\n",
        "If you have been following us, then this is how your program should look like:"
      ],
      "metadata": {
        "id": "64hd3n0c9oG6"
      }
    },
    {
      "cell_type": "code",
      "source": [
        "import random\n",
        "number = random.randint(1, 100)\n",
        "playerName = input(\"Hello what is your name: \")\n",
        "print(\"Hi\",playerName, \"I am guessing a number between 1 and 100:\")\n",
        "difficulty = input(\"Choose the difficulty level, Type 'easy' or 'hard': \")\n",
        "if difficulty == \"easy\":\n",
        "  guesses = 10\n",
        "else:\n",
        "  guesses = 5\n",
        "print(\"you have\", guesses, \"guesses to guess the number\")\n",
        "\n",
        "while guesses > 0:\n",
        "  guess = int(input(\"Guess a number\"))\n",
        "  if guess < number:\n",
        "    print(\"Your Guess is too Low\")\n",
        "    guesses = guesses - 1\n",
        "    print(\"You have\", guesses, \"guesses to guess the number\")\n",
        "  elif guess > number:\n",
        "    print(\"Your Guess is too High\")\n",
        "    guesses = guesses - 1\n",
        "    print(\"You have\", guesses, \"guesses to guess the number\")\n",
        "  else:\n",
        "    print(\"Great Job!!!!\")\n",
        "    print(\"You Guessed it Right\", playerName)\n",
        "    print(\"You Guessed the number in\", (10 - guesses if difficulty == \"easy\" else 5 - guesses), \"attempts!\")\n",
        "    break\n",
        "if guesses == 0:\n",
        "  print(\"You ran out of Guesses. The correct answer was\", number)\n"
      ],
      "metadata": {
        "id": "Ddv8OBRg9O-o",
        "colab": {
          "base_uri": "https://localhost:8080/"
        },
        "outputId": "3c0fbcab-9cdb-4d41-ef29-8371cc88ad7c"
      },
      "execution_count": null,
      "outputs": [
        {
          "output_type": "stream",
          "name": "stdout",
          "text": [
            "Hello what is your name: G\n",
            "Hi G I am guessing a number between 1 and 100:\n",
            "Choose the difficulty level, Type 'easy' or 'hard': EAY\n",
            "you have 5 guesses to guess the number\n",
            "Guess a number5\n",
            "Your Guess is too Low\n",
            "You have 4 guesses to guess the number\n",
            "Guess a number55\n",
            "Your Guess is too High\n",
            "You have 3 guesses to guess the number\n",
            "Guess a number44\n",
            "Your Guess is too High\n",
            "You have 2 guesses to guess the number\n",
            "Guess a number40\n",
            "Your Guess is too High\n",
            "You have 1 guesses to guess the number\n",
            "Guess a number74\n",
            "Your Guess is too High\n",
            "You have 0 guesses to guess the number\n",
            "You ran out of Guesses. The correct answer was 24\n"
          ]
        }
      ]
    },
    {
      "cell_type": "markdown",
      "source": [
        "Now let's run our game!\n",
        "\n",
        "Great Job"
      ],
      "metadata": {
        "id": "f8UsVx15_bS8"
      }
    }
  ]
}